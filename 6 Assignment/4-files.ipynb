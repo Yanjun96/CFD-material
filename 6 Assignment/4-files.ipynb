{
 "cells": [
  {
   "cell_type": "markdown",
   "metadata": {},
   "source": [
    "Before you turn this problem in, make sure everything runs as expected. First, **restart the kernel** (in the menubar, select Kernel$\\rightarrow$Restart) and then **run all cells** (in the menubar, select Cell$\\rightarrow$Run All).\n",
    "\n",
    "Make sure you fill in any place that says `YOUR CODE HERE` or \"YOUR ANSWER HERE\", as well as your name and collaborators below:"
   ]
  },
  {
   "cell_type": "code",
   "execution_count": 1,
   "metadata": {},
   "outputs": [],
   "source": [
    "NAME = \"Yanjun Zhang\"\n"
   ]
  },
  {
   "cell_type": "markdown",
   "metadata": {},
   "source": [
    "---"
   ]
  },
  {
   "cell_type": "markdown",
   "metadata": {},
   "source": [
    "# File handling\n"
   ]
  },
  {
   "cell_type": "markdown",
   "metadata": {},
   "source": [
    "## Creating our reference file\n",
    "\n",
    "In our initial example we create a small reference file by executing the following cell. The so-called cell-magic command `%%file` takes its first argument as a filename and writes the remaining content of the cell to file\n",
    "\n",
    "[More about cell magic](https://ipython.readthedocs.io/en/stable/interactive/magics.html)"
   ]
  },
  {
   "cell_type": "code",
   "execution_count": 2,
   "metadata": {
    "deletable": false,
    "editable": false,
    "nbgrader": {
     "cell_type": "code",
     "checksum": "615b90415657c85c16f8b83a64e0e690",
     "grade": false,
     "grade_id": "cell-846fa717ec4901bd",
     "locked": true,
     "schema_version": 3,
     "solution": false
    }
   },
   "outputs": [
    {
     "name": "stdout",
     "output_type": "stream",
     "text": [
      "Overwriting composers.txt\n"
     ]
    }
   ],
   "source": [
    "%%file composers.txt\n",
    "dufay\n",
    "ockeghem\n",
    "josquin\n",
    "willaert\n",
    "orlando\n",
    "sweelinck"
   ]
  },
  {
   "cell_type": "code",
   "execution_count": 3,
   "metadata": {},
   "outputs": [
    {
     "name": "stdout",
     "output_type": "stream",
     "text": [
      "Overwriting composers.txt\n"
     ]
    }
   ],
   "source": [
    "%%file composers.txt\n",
    "dufay\n",
    "ockeghem\n",
    "josquin\n",
    "willaert\n",
    "orlando\n",
    "sweelinck"
   ]
  },
  {
   "cell_type": "markdown",
   "metadata": {},
   "source": [
    "\n",
    "## Reading\n",
    "\n",
    "In the first exercise we recall different forms of reading text files. In 1-3 there are single-line answers\n",
    "\n"
   ]
  },
  {
   "cell_type": "markdown",
   "metadata": {},
   "source": [
    "#### Exercise 1\n",
    "What single line is used to return the file content as a single string? Not that the string will contain the end-of-line (newline) character `\\n`"
   ]
  },
  {
   "cell_type": "code",
   "execution_count": 4,
   "metadata": {
    "deletable": false,
    "nbgrader": {
     "cell_type": "code",
     "checksum": "31e09e8cffc968e483a63da99663d648",
     "grade": false,
     "grade_id": "cell-619ee4026f28565c",
     "locked": false,
     "schema_version": 3,
     "solution": true
    }
   },
   "outputs": [],
   "source": [
    "# YOUR CODE HERE\n",
    "_ = open('composers.txt').read()"
   ]
  },
  {
   "cell_type": "raw",
   "metadata": {},
   "source": [
    "An underscore `_` refers to the value of the previoius command. In the test cell we are thus checking the return  of the last line in the previous cell"
   ]
  },
  {
   "cell_type": "code",
   "execution_count": 5,
   "metadata": {
    "deletable": false,
    "editable": false,
    "nbgrader": {
     "cell_type": "code",
     "checksum": "b7dcb8730ca44d827470a92b35c1f452",
     "grade": true,
     "grade_id": "cell-e16f081e726162ce",
     "locked": true,
     "points": 1,
     "schema_version": 3,
     "solution": false
    }
   },
   "outputs": [],
   "source": [
    "result = _\n",
    "expected = 'dufay\\nockeghem\\njosquin\\nwillaert\\norlando\\nsweelinck\\n'\n",
    "assert result == expected, f'{result=} != {expected=}'"
   ]
  },
  {
   "cell_type": "code",
   "execution_count": null,
   "metadata": {},
   "outputs": [],
   "source": []
  },
  {
   "cell_type": "markdown",
   "metadata": {},
   "source": [
    "#### Exercise 2\n",
    "What single line is used to return the file content as a Python list of strings. "
   ]
  },
  {
   "cell_type": "code",
   "execution_count": 6,
   "metadata": {
    "deletable": false,
    "nbgrader": {
     "cell_type": "code",
     "checksum": "1c824f34c50404d900d543baed236793",
     "grade": false,
     "grade_id": "cell-b8288e222d0343fb",
     "locked": false,
     "schema_version": 3,
     "solution": true
    }
   },
   "outputs": [],
   "source": [
    "# YOUR CODE HERE\n",
    "################\n",
    "_ = [line for line in open('composers.txt')]\n"
   ]
  },
  {
   "cell_type": "code",
   "execution_count": 7,
   "metadata": {},
   "outputs": [
    {
     "name": "stdout",
     "output_type": "stream",
     "text": [
      "['dufay\\n', 'ockeghem\\n', 'josquin\\n', 'willaert\\n', 'orlando\\n', 'sweelinck\\n']\n"
     ]
    }
   ],
   "source": [
    "print (_)"
   ]
  },
  {
   "cell_type": "code",
   "execution_count": 8,
   "metadata": {
    "deletable": false,
    "editable": false,
    "nbgrader": {
     "cell_type": "code",
     "checksum": "cf8a4af600c4f58154f9bb4b94d03a1c",
     "grade": true,
     "grade_id": "cell-3f4d59f2de6a1c5e",
     "locked": true,
     "points": 1,
     "schema_version": 3,
     "solution": false
    }
   },
   "outputs": [],
   "source": [
    "result = _\n",
    "expected = ['dufay\\n', 'ockeghem\\n', 'josquin\\n',  'willaert\\n',  'orlando\\n',  'sweelinck\\n']\n",
    "assert result == expected, f'{result=} != {expected}'"
   ]
  },
  {
   "cell_type": "markdown",
   "metadata": {},
   "source": [
    "#### Exercise 3\n",
    "This function will return the lines of the file without the 'end-of-line' characters. Use the [`strip`](https://docs.python.org/3/library/stdtypes.html#str.strip) method and a [list comprehension](https://realpython.com/list-comprehension-python/)"
   ]
  },
  {
   "cell_type": "code",
   "execution_count": 9,
   "metadata": {
    "deletable": false,
    "nbgrader": {
     "cell_type": "code",
     "checksum": "7cf170f836862d6d51aa3831d3013c33",
     "grade": false,
     "grade_id": "cell-a53c2938a84d15db",
     "locked": false,
     "schema_version": 3,
     "solution": true
    }
   },
   "outputs": [
    {
     "data": {
      "text/plain": [
       "['dufay', 'ockeghem', 'josquin', 'willaert', 'orlando', 'sweelinck']"
      ]
     },
     "execution_count": 9,
     "metadata": {},
     "output_type": "execute_result"
    }
   ],
   "source": [
    "def get_list_of_lines_without_eol_character(filename):\n",
    "    return  [\n",
    "    # YOUR CODE HERE\n",
    "    ################\n",
    "    a.strip() for a in open(filename) ]\n",
    "  \n",
    "get_list_of_lines_without_eol_character('composers.txt')\n",
    "\n"
   ]
  },
  {
   "cell_type": "code",
   "execution_count": 10,
   "metadata": {
    "deletable": false,
    "editable": false,
    "nbgrader": {
     "cell_type": "code",
     "checksum": "93de2d8741667a8b8d8c28ab07112d41",
     "grade": true,
     "grade_id": "cell-de85c7e2aeabc67f",
     "locked": true,
     "points": 1,
     "schema_version": 3,
     "solution": false
    }
   },
   "outputs": [],
   "source": [
    "result =  get_list_of_lines_without_eol_character('composers.txt')\n",
    "expected = ['dufay', 'ockeghem', 'josquin', 'willaert', 'orlando', 'sweelinck']\n",
    "assert result == expected, f'{result=} != {expected}'"
   ]
  },
  {
   "cell_type": "markdown",
   "metadata": {},
   "source": [
    "## Reading numeric data\n",
    "All reading/writing is done with text objects, i.e. reading a '7' will be text string with a single character rather than a numeric value. \n",
    "\n",
    "To get numbers from file intended for computation we have to do a type conversion (typically `int` or `float`)\n",
    "\n",
    "Consider a file with one number per line. \n",
    "\n",
    "    1\n",
    "    2\n",
    "    3\n",
    "    4\n"
   ]
  },
  {
   "cell_type": "markdown",
   "metadata": {},
   "source": [
    "### Exercise 4\n",
    "\n",
    "Write a function that takes a file name as input and returns the sum of the numbers in the file, assuming one number per line"
   ]
  },
  {
   "cell_type": "code",
   "execution_count": 11,
   "metadata": {
    "deletable": false,
    "editable": false,
    "nbgrader": {
     "cell_type": "code",
     "checksum": "89a414bebe16c2b8da29d6c18a927ed2",
     "grade": false,
     "grade_id": "cell-762fc0f0c9060c95",
     "locked": true,
     "schema_version": 3,
     "solution": false
    }
   },
   "outputs": [
    {
     "name": "stdout",
     "output_type": "stream",
     "text": [
      "Overwriting numbers1.txt\n"
     ]
    }
   ],
   "source": [
    "%%file numbers1.txt\n",
    "1\n",
    "2\n",
    "3\n",
    "4\n",
    "5"
   ]
  },
  {
   "cell_type": "code",
   "execution_count": 12,
   "metadata": {
    "deletable": false,
    "nbgrader": {
     "cell_type": "code",
     "checksum": "af18459944dca5660f2b09fcba963930",
     "grade": false,
     "grade_id": "cell-e61d832d811f3cc4",
     "locked": false,
     "schema_version": 3,
     "solution": true
    }
   },
   "outputs": [],
   "source": [
    "def sum_numbers_in_file(filename):\n",
    "    number_sum = 0\n",
    "    \n",
    "    # YOUR CODE HERE\n",
    "    ################\n",
    "    number_str = [lines.strip() for lines in open(filename)]\n",
    "    number_int = [int(a) for a in number_str]\n",
    "    number_sum = sum (number_int)\n",
    "    return number_sum\n",
    "    a = sum_numbers_in_file('numbers1.txt')\n",
    "    "
   ]
  },
  {
   "cell_type": "code",
   "execution_count": null,
   "metadata": {},
   "outputs": [],
   "source": []
  },
  {
   "cell_type": "code",
   "execution_count": 13,
   "metadata": {
    "deletable": false,
    "editable": false,
    "nbgrader": {
     "cell_type": "code",
     "checksum": "9f931d943fa0748004cab321ba00e2c9",
     "grade": true,
     "grade_id": "cell-cedf19ef9aeb39f9",
     "locked": true,
     "points": 1,
     "schema_version": 3,
     "solution": false
    }
   },
   "outputs": [],
   "source": [
    "result = sum_numbers_in_file('numbers1.txt')\n",
    "expected = 15\n",
    "assert result == expected, f'{result=} != {expected=}'"
   ]
  },
  {
   "cell_type": "markdown",
   "metadata": {
    "deletable": false,
    "editable": false,
    "nbgrader": {
     "cell_type": "markdown",
     "checksum": "6aabeac648fde15d2121b0d2be2fb92d",
     "grade": false,
     "grade_id": "cell-d058b86d284d057d",
     "locked": true,
     "schema_version": 3,
     "solution": false
    }
   },
   "source": [
    "### Exercise 5\n",
    "\n",
    "It was realized that some files have more numbers on several lines such that for a file like\n",
    "\n",
    "    1 2 3 4 5\n",
    "    6 7 8 9 10\n",
    "    \n",
    "could not be handled by this function but we would get an error like\n",
    "\n",
    "    E           ValueError: invalid literal for int() with base 10: '1 2 3 4 5\\n'\n",
    "    \n",
    "\n",
    "In this exercise generalize the function above by copying here. Use the `split` method to split a line into words.\n",
    "Example\n",
    "\n",
    "    >>> '1 2 3 4 5\\n'.split()\n",
    "    ['1', '2', '3', '4', '5']\n",
    "   "
   ]
  },
  {
   "cell_type": "code",
   "execution_count": 14,
   "metadata": {
    "deletable": false,
    "editable": false,
    "nbgrader": {
     "cell_type": "code",
     "checksum": "e0ee07910b25086d9bd08c31a5859c12",
     "grade": false,
     "grade_id": "cell-24514acaed652220",
     "locked": true,
     "schema_version": 3,
     "solution": false
    }
   },
   "outputs": [
    {
     "name": "stdout",
     "output_type": "stream",
     "text": [
      "Overwriting numbers2.txt\n"
     ]
    }
   ],
   "source": [
    "%%file numbers2.txt\n",
    "1 2 3 4 5\n",
    "6 7 8 9 10\n",
    "\n"
   ]
  },
  {
   "cell_type": "code",
   "execution_count": 15,
   "metadata": {},
   "outputs": [],
   "source": [
    "# You may uncomment this line and try\n",
    "# c = sum_numbers_in_file('numbers2.txt')"
   ]
  },
  {
   "cell_type": "markdown",
   "metadata": {},
   "source": [
    "In this exercise generalize the function from exercise 4. Use the `split` method to split a line into words."
   ]
  },
  {
   "cell_type": "code",
   "execution_count": 16,
   "metadata": {
    "deletable": false,
    "nbgrader": {
     "cell_type": "code",
     "checksum": "0bca2a70a03a2ff2abfe62395de2a052",
     "grade": false,
     "grade_id": "cell-e61d832d811f3cc5",
     "locked": false,
     "schema_version": 3,
     "solution": true
    }
   },
   "outputs": [
    {
     "data": {
      "text/plain": [
       "55"
      ]
     },
     "execution_count": 16,
     "metadata": {},
     "output_type": "execute_result"
    }
   ],
   "source": [
    "def sum_numbers_in_file2(filename):\n",
    "    number_sum = 0\n",
    "    # \n",
    "    # YOUR CODE HERE\n",
    "    ################\n",
    "    total_lines = [line for line in open(filename).readlines()]\n",
    "    all_numbers = []\n",
    "\n",
    "    for line in total_lines:\n",
    "       words = line.split()\n",
    "       all_numbers.extend([int(num) for num in words])\n",
    "      \n",
    "    number_sum = sum(all_numbers)\n",
    "     \n",
    "    \n",
    "    # BUILD ON YOUR SOLUTION FROM EXERCISE 4 AND GENERALIZE\n",
    "    return number_sum \n",
    "    \n",
    "sum_numbers_in_file2('numbers2.txt')"
   ]
  },
  {
   "cell_type": "code",
   "execution_count": 17,
   "metadata": {
    "deletable": false,
    "editable": false,
    "nbgrader": {
     "cell_type": "code",
     "checksum": "7f38f2bc1870df93569496f19252fba2",
     "grade": true,
     "grade_id": "cell-b4d65b9e6d0f1e01",
     "locked": true,
     "points": 1,
     "schema_version": 3,
     "solution": false
    }
   },
   "outputs": [],
   "source": [
    "result1 = sum_numbers_in_file2('numbers1.txt')\n",
    "expected1 = 15\n",
    "assert result1 == expected1, f'{result1=} != {expected1=}'\n",
    "\n",
    "result2 = sum_numbers_in_file2('numbers2.txt')\n",
    "expected2 = 55\n",
    "assert result2 == expected2, f'{result2=} != {expected2=}'"
   ]
  },
  {
   "cell_type": "markdown",
   "metadata": {},
   "source": [
    "## Writing files\n",
    "\n",
    "When we call the builtin function `open` with a filename as a single argument the default behaviour is to look for an existing file for reading. If it does not exist the system prints  a `FileNotFoundError` and a message like\n",
    "\n",
    "    open('no_such_file')\n",
    "    ---------------------------------------------------------------------------\n",
    "    FileNotFoundError                         Traceback (most recent call last)\n",
    "    <ipython-input-15-b99a18bdaf59> in <module>()\n",
    "    ----> 1 open('no_such_file')\n",
    "\n",
    "    FileNotFoundError: [Errno 2] No such file or directory: 'no_such_file'\n",
    "    \n",
    " \n",
    " \n",
    "To open a new file to be written we have to supply an additional parameter, `w` for writing.\n",
    "\n",
    "    open('new_file', 'w')\n",
    " \n",
    "The `open` function returns a file object which has methods for reading (`read`, `readlines`) and writing (`write`)\n",
    "\n",
    "You can often look up the documentation of a function with"
   ]
  },
  {
   "cell_type": "code",
   "execution_count": 18,
   "metadata": {},
   "outputs": [
    {
     "name": "stdout",
     "output_type": "stream",
     "text": [
      "Help on function open in module _io:\n",
      "\n",
      "open(file, mode='r', buffering=-1, encoding=None, errors=None, newline=None, closefd=True, opener=None)\n",
      "    Open file and return a stream.  Raise OSError upon failure.\n",
      "\n",
      "    file is either a text or byte string giving the name (and the path\n",
      "    if the file isn't in the current working directory) of the file to\n",
      "    be opened or an integer file descriptor of the file to be\n",
      "    wrapped. (If a file descriptor is given, it is closed when the\n",
      "    returned I/O object is closed, unless closefd is set to False.)\n",
      "\n",
      "    mode is an optional string that specifies the mode in which the file\n",
      "    is opened. It defaults to 'r' which means open for reading in text\n",
      "    mode.  Other common values are 'w' for writing (truncating the file if\n",
      "    it already exists), 'x' for creating and writing to a new file, and\n",
      "    'a' for appending (which on some Unix systems, means that all writes\n",
      "    append to the end of the file regardless of the current seek position).\n",
      "    In text mode, if encoding is not specified the encoding used is platform\n",
      "    dependent: locale.getencoding() is called to get the current locale encoding.\n",
      "    (For reading and writing raw bytes use binary mode and leave encoding\n",
      "    unspecified.) The available modes are:\n",
      "\n",
      "    ========= ===============================================================\n",
      "    Character Meaning\n",
      "    --------- ---------------------------------------------------------------\n",
      "    'r'       open for reading (default)\n",
      "    'w'       open for writing, truncating the file first\n",
      "    'x'       create a new file and open it for writing\n",
      "    'a'       open for writing, appending to the end of the file if it exists\n",
      "    'b'       binary mode\n",
      "    't'       text mode (default)\n",
      "    '+'       open a disk file for updating (reading and writing)\n",
      "    ========= ===============================================================\n",
      "\n",
      "    The default mode is 'rt' (open for reading text). For binary random\n",
      "    access, the mode 'w+b' opens and truncates the file to 0 bytes, while\n",
      "    'r+b' opens the file without truncation. The 'x' mode implies 'w' and\n",
      "    raises an `FileExistsError` if the file already exists.\n",
      "\n",
      "    Python distinguishes between files opened in binary and text modes,\n",
      "    even when the underlying operating system doesn't. Files opened in\n",
      "    binary mode (appending 'b' to the mode argument) return contents as\n",
      "    bytes objects without any decoding. In text mode (the default, or when\n",
      "    't' is appended to the mode argument), the contents of the file are\n",
      "    returned as strings, the bytes having been first decoded using a\n",
      "    platform-dependent encoding or using the specified encoding if given.\n",
      "\n",
      "    buffering is an optional integer used to set the buffering policy.\n",
      "    Pass 0 to switch buffering off (only allowed in binary mode), 1 to select\n",
      "    line buffering (only usable in text mode), and an integer > 1 to indicate\n",
      "    the size of a fixed-size chunk buffer.  When no buffering argument is\n",
      "    given, the default buffering policy works as follows:\n",
      "\n",
      "    * Binary files are buffered in fixed-size chunks; the size of the buffer\n",
      "      is chosen using a heuristic trying to determine the underlying device's\n",
      "      \"block size\" and falling back on `io.DEFAULT_BUFFER_SIZE`.\n",
      "      On many systems, the buffer will typically be 4096 or 8192 bytes long.\n",
      "\n",
      "    * \"Interactive\" text files (files for which isatty() returns True)\n",
      "      use line buffering.  Other text files use the policy described above\n",
      "      for binary files.\n",
      "\n",
      "    encoding is the name of the encoding used to decode or encode the\n",
      "    file. This should only be used in text mode. The default encoding is\n",
      "    platform dependent, but any encoding supported by Python can be\n",
      "    passed.  See the codecs module for the list of supported encodings.\n",
      "\n",
      "    errors is an optional string that specifies how encoding errors are to\n",
      "    be handled---this argument should not be used in binary mode. Pass\n",
      "    'strict' to raise a ValueError exception if there is an encoding error\n",
      "    (the default of None has the same effect), or pass 'ignore' to ignore\n",
      "    errors. (Note that ignoring encoding errors can lead to data loss.)\n",
      "    See the documentation for codecs.register or run 'help(codecs.Codec)'\n",
      "    for a list of the permitted encoding error strings.\n",
      "\n",
      "    newline controls how universal newlines works (it only applies to text\n",
      "    mode). It can be None, '', '\\n', '\\r', and '\\r\\n'.  It works as\n",
      "    follows:\n",
      "\n",
      "    * On input, if newline is None, universal newlines mode is\n",
      "      enabled. Lines in the input can end in '\\n', '\\r', or '\\r\\n', and\n",
      "      these are translated into '\\n' before being returned to the\n",
      "      caller. If it is '', universal newline mode is enabled, but line\n",
      "      endings are returned to the caller untranslated. If it has any of\n",
      "      the other legal values, input lines are only terminated by the given\n",
      "      string, and the line ending is returned to the caller untranslated.\n",
      "\n",
      "    * On output, if newline is None, any '\\n' characters written are\n",
      "      translated to the system default line separator, os.linesep. If\n",
      "      newline is '' or '\\n', no translation takes place. If newline is any\n",
      "      of the other legal values, any '\\n' characters written are translated\n",
      "      to the given string.\n",
      "\n",
      "    If closefd is False, the underlying file descriptor will be kept open\n",
      "    when the file is closed. This does not work when a file name is given\n",
      "    and must be True in that case.\n",
      "\n",
      "    A custom opener can be used by passing a callable as *opener*. The\n",
      "    underlying file descriptor for the file object is then obtained by\n",
      "    calling *opener* with (*file*, *flags*). *opener* must return an open\n",
      "    file descriptor (passing os.open as *opener* results in functionality\n",
      "    similar to passing None).\n",
      "\n",
      "    open() returns a file object whose type depends on the mode, and\n",
      "    through which the standard file operations such as reading and writing\n",
      "    are performed. When open() is used to open a file in a text mode ('w',\n",
      "    'r', 'wt', 'rt', etc.), it returns a TextIOWrapper. When used to open\n",
      "    a file in a binary mode, the returned class varies: in read binary\n",
      "    mode, it returns a BufferedReader; in write binary and append binary\n",
      "    modes, it returns a BufferedWriter, and in read/write mode, it returns\n",
      "    a BufferedRandom.\n",
      "\n",
      "    It is also possible to use a string or bytearray as a file for both\n",
      "    reading and writing. For strings StringIO can be used like a file\n",
      "    opened in a text mode, and for bytes a BytesIO can be used like a file\n",
      "    opened in a binary mode.\n",
      "\n"
     ]
    }
   ],
   "source": [
    "help(open)"
   ]
  },
  {
   "cell_type": "markdown",
   "metadata": {},
   "source": [
    "### Exercise 6\n",
    "\n",
    "With the content in the multi-line string write down code that writes the following content to a file of the form first_last.txt  and with capitalized names (First, Last) in the text.\n",
    "\n",
    "Hint: consider string methods\n",
    "\n",
    "    >>> 'JOHN'.lower()\n",
    "    john\n",
    "    >>> 'JOHN'.capitalize()\n",
    "    John\n",
    "    \n",
    "    "
   ]
  },
  {
   "cell_type": "code",
   "execution_count": 44,
   "metadata": {
    "deletable": false,
    "nbgrader": {
     "cell_type": "code",
     "checksum": "97d2c0b1301c0d39dfb653ed20c368ef",
     "grade": false,
     "grade_id": "cell-9e5cf46774b3a243",
     "locked": false,
     "schema_version": 3,
     "solution": true
    }
   },
   "outputs": [],
   "source": [
    "def try_out_names(first, last):\n",
    "    \n",
    "    content = f\"\"\"\n",
    "    'Tis but thy name that is my enemy;\n",
    "    Thou art thyself, though not a {last}.\n",
    "    What's {last}? It is nor hand, nor foot,\n",
    "    Nor arm, nor face, nor any other part\n",
    "    Belonging to a man. O, be some other name!\n",
    "    What's in a name? That which we call a rose\n",
    "    By any other word would smell as sweet;\n",
    "    So {first} would, were he not {first} call'd,\n",
    "    Retain that dear perfection which he owes\n",
    "    Without that title. {first}, doff thy name,\n",
    "    And for that name which is no part of thee\n",
    "    Take all myself.\n",
    "    \"\"\"\n",
    "    \n",
    "    return content\n",
    "\n",
    "def write_to_file(first, last):\n",
    "    \"\"\"\n",
    "    Writes to file first_last.txt balcony scene with names\n",
    "    Filename will be in lower case\n",
    "    Names in text will have initial letter capitalized\n",
    "    \"\"\"\n",
    "    # YOUR CODE HERE\n",
    "    ################\n",
    "    content = try_out_names(first.capitalize(),last.capitalize())\n",
    "    filename = f\"{first.lower()}_{last.lower()}.txt\"\n",
    "  \n",
    "    with open(filename, 'w') as file:\n",
    "        file.write(content)\n",
    "\n",
    "\n",
    "    content = try_out_names(first.capitalize(),last.capitalize)\n",
    "    filename = f\"{first.lower()}_{last.lower()}.txt\"\n"
   ]
  },
  {
   "cell_type": "code",
   "execution_count": null,
   "metadata": {},
   "outputs": [],
   "source": []
  },
  {
   "cell_type": "code",
   "execution_count": 45,
   "metadata": {
    "deletable": false,
    "editable": false,
    "nbgrader": {
     "cell_type": "code",
     "checksum": "6515cccca747ae9661b7e48b672e548a",
     "grade": true,
     "grade_id": "cell-afe447054334d72a",
     "locked": true,
     "points": 1,
     "schema_version": 3,
     "solution": false
    }
   },
   "outputs": [],
   "source": [
    "# Now write to new file and check content\n",
    "from pathlib import Path\n",
    "from difflib import context_diff\n",
    "\n",
    "def rm_f(filename):\n",
    "    \"\"\"\n",
    "    Delete a file if it exists \n",
    "    (bash: $ rm -f filename)\n",
    "    \"\"\"\n",
    "    file = Path(filename)\n",
    "    file.unlink(missing_ok=True)\n",
    "\n",
    "rm_f('ronald_smith.txt')\n",
    "write_to_file('RONALD', 'SMITH')\n",
    "result = open('ronald_smith.txt').read()\n",
    "expected= \"\"\"\n",
    "    'Tis but thy name that is my enemy;\n",
    "    Thou art thyself, though not a Smith.\n",
    "    What's Smith? It is nor hand, nor foot,\n",
    "    Nor arm, nor face, nor any other part\n",
    "    Belonging to a man. O, be some other name!\n",
    "    What's in a name? That which we call a rose\n",
    "    By any other word would smell as sweet;\n",
    "    So Ronald would, were he not Ronald call'd,\n",
    "    Retain that dear perfection which he owes\n",
    "    Without that title. Ronald, doff thy name,\n",
    "    And for that name which is no part of thee\n",
    "    Take all myself.\n",
    "    \"\"\"\n",
    "\n",
    "def diff(left, right):\n",
    "    left_lines = left.splitlines(True)\n",
    "    right_lines = right.splitlines(True)\n",
    "    diff_lines = context_diff(left_lines, right_lines)\n",
    "    return \"\".join(diff_lines)\n",
    "\n",
    "assert result == expected, diff(result, expected)"
   ]
  },
  {
   "cell_type": "code",
   "execution_count": 46,
   "metadata": {
    "deletable": false,
    "editable": false,
    "nbgrader": {
     "cell_type": "code",
     "checksum": "d721339d97d9fda846cb6434184a70da",
     "grade": true,
     "grade_id": "cell-38bc00bbe09a1a75",
     "locked": true,
     "points": 1,
     "schema_version": 3,
     "solution": false,
     "task": false
    }
   },
   "outputs": [],
   "source": [
    "rm_f('romeo_montague.txt')\n",
    "write_to_file('ROMEO', 'MONTAGUE')\n",
    "result = open('romeo_montague.txt').read()\n",
    "expected = \"\"\"\n",
    "    'Tis but thy name that is my enemy;\n",
    "    Thou art thyself, though not a Montague.\n",
    "    What's Montague? It is nor hand, nor foot,\n",
    "    Nor arm, nor face, nor any other part\n",
    "    Belonging to a man. O, be some other name!\n",
    "    What's in a name? That which we call a rose\n",
    "    By any other word would smell as sweet;\n",
    "    So Romeo would, were he not Romeo call'd,\n",
    "    Retain that dear perfection which he owes\n",
    "    Without that title. Romeo, doff thy name,\n",
    "    And for that name which is no part of thee\n",
    "    Take all myself.\n",
    "    \"\"\"\n",
    "assert result == expected, diff(result, expected)"
   ]
  },
  {
   "cell_type": "markdown",
   "metadata": {},
   "source": [
    "### Exercise 7\n",
    "Implement a file copy command command with Python read an write commands\n"
   ]
  },
  {
   "cell_type": "code",
   "execution_count": 53,
   "metadata": {
    "deletable": false,
    "nbgrader": {
     "cell_type": "code",
     "checksum": "c404252accc3be9af0c329e8bd602a4e",
     "grade": false,
     "grade_id": "cell-6360c6f2039531d7",
     "locked": false,
     "schema_version": 3,
     "solution": true
    }
   },
   "outputs": [],
   "source": [
    "def cp(source, target):\n",
    "    \"\"\"\n",
    "    Copies textfile source to target\n",
    "    \"\"\"\n",
    "    # YOUR CODE HERE\n",
    "    ################\n",
    "    with open(source, 'r') as file:\n",
    "        content = file.read()\n",
    "\n",
    "    with open(target,'w') as file:\n",
    "        file.write(content)\n",
    "\n",
    "\n",
    "        "
   ]
  },
  {
   "cell_type": "code",
   "execution_count": 54,
   "metadata": {
    "deletable": false,
    "editable": false,
    "nbgrader": {
     "cell_type": "code",
     "checksum": "eaccc690403274764ec9bed34cd444b5",
     "grade": false,
     "grade_id": "cell-f8c9c62b3953114a",
     "locked": true,
     "schema_version": 3,
     "solution": false,
     "task": false
    }
   },
   "outputs": [
    {
     "name": "stdout",
     "output_type": "stream",
     "text": [
      "Overwriting blake.txt\n"
     ]
    }
   ],
   "source": [
    "%%file blake.txt\n",
    "To see a World in a Grain of Sand\n",
    "And a Heaven in a Wild Flower,\n",
    "Hold Infinity in the palm of your hand \n",
    "And Eternity in an hour."
   ]
  },
  {
   "cell_type": "code",
   "execution_count": 55,
   "metadata": {
    "deletable": false,
    "editable": false,
    "nbgrader": {
     "cell_type": "code",
     "checksum": "93a7bdbf84fa7f2fb92f369059fad387",
     "grade": true,
     "grade_id": "cell-d7bfacb6d05ced8a",
     "locked": true,
     "points": 1,
     "schema_version": 3,
     "solution": false,
     "task": false
    }
   },
   "outputs": [],
   "source": [
    "import filecmp\n",
    "cp('blake.txt', 'poem.txt')\n",
    "assert filecmp.cmp('blake.txt', 'poem.txt'), 'blake.txt and poem.txt differ'"
   ]
  }
 ],
 "metadata": {
  "kernelspec": {
   "display_name": "Python 3 (ipykernel)",
   "language": "python",
   "name": "python3"
  },
  "language_info": {
   "codemirror_mode": {
    "name": "ipython",
    "version": 3
   },
   "file_extension": ".py",
   "mimetype": "text/x-python",
   "name": "python",
   "nbconvert_exporter": "python",
   "pygments_lexer": "ipython3",
   "version": "3.12.0"
  }
 },
 "nbformat": 4,
 "nbformat_minor": 4
}
