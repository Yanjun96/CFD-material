{
 "cells": [
  {
   "cell_type": "code",
   "execution_count": 1,
   "id": "c9df6ac7",
   "metadata": {},
   "outputs": [],
   "source": [
    "import numpy as np\n",
    "import matplotlib.pyplot as plt\n",
    "import math\n",
    "\n",
    "## This file demonstrates how to use Finite element method（FEM）solving 1D possion equation. \n"
   ]
  },
  {
   "cell_type": "markdown",
   "id": "1416eb80",
   "metadata": {},
   "source": [
    "## 1. Define equations and boundary "
   ]
  },
  {
   "cell_type": "code",
   "execution_count": 2,
   "id": "cf66e4b2",
   "metadata": {},
   "outputs": [],
   "source": [
    "# fro equation -(xu')'=5-4x ,x in (2,4)\n",
    "xmin = 2\n",
    "xmax = 4\n",
    "\n",
    "# boundary condition\n",
    "g = [3,5]\n",
    "kappa = [0,0]\n",
    "N = 2\n",
    "\n",
    "# function K is\n",
    "def k(x):\n",
    "    y = x\n",
    "    return y\n",
    "\n",
    "# function p is\n",
    "def p(x):\n",
    "    y = 0 * x\n",
    "    return y\n",
    "\n",
    "# function f is\n",
    "def f(x):\n",
    "    y = 5 - 4 * x\n",
    "    return y"
   ]
  },
  {
   "cell_type": "markdown",
   "id": "c6fd8f7c",
   "metadata": {},
   "source": [
    "## 2. Mesh"
   ]
  },
  {
   "cell_type": "code",
   "execution_count": 3,
   "id": "f83acd23",
   "metadata": {},
   "outputs": [],
   "source": [
    "def mesh1D(xmin,xmax,N):\n",
    "    dx = (xmax - xmin) / N\n",
    "    \n",
    "    Th = [];\n",
    "    ## construct a mesh Th for a one dimensional domain [xl,xR] with N+1 points\n",
    "    for i in range(1,N+2):\n",
    "        Th.append(((xmin +(i-1) * dx)))\n",
    "        \n",
    "    return Th\n",
    "\n",
    "\n",
    "## another way for the loop:\n",
    "     #Th = [x_min + (i-1) * dx for i in range(1, N+2)]   \n",
    "    \n",
    "## here use round because of the floating-point precusion issue"
   ]
  },
  {
   "cell_type": "code",
   "execution_count": 4,
   "id": "31fb2d2f",
   "metadata": {},
   "outputs": [],
   "source": [
    "## verify the mesh function, will possible encounter floating-point precision issue\n",
    "\n",
    "calculated = mesh1D(0,1,16)\n",
    "expected = [0.0, 0.0625, 0.125, 0.1875, 0.25, 0.3125, 0.375, 0.4375, 0.5, 0.5625, 0.625, 0.6875, 0.75, 0.8125, 0.875, 0.9375, 1.0]\n",
    "assert calculated == expected, f'{calculated=} != {expected=}'\n"
   ]
  },
  {
   "cell_type": "code",
   "execution_count": 5,
   "id": "4150b7b7",
   "metadata": {},
   "outputs": [
    {
     "name": "stdout",
     "output_type": "stream",
     "text": [
      "[0.0, 0.25, 0.5, 0.75, 1.0]\n"
     ]
    }
   ],
   "source": [
    "mesh1 = mesh1D(0,1,4)\n",
    "print(mesh1)"
   ]
  },
  {
   "cell_type": "markdown",
   "id": "5c3c968a",
   "metadata": {},
   "source": [
    "## 3. Matrixs assembler"
   ]
  },
  {
   "cell_type": "code",
   "execution_count": 6,
   "id": "59698514",
   "metadata": {},
   "outputs": [],
   "source": [
    "def StiffnessAssembler1D(Th,k):\n",
    "    import numpy as np\n",
    "    n = len(Th)-1\n",
    "    A = np.zeros((n+1,n+1))\n",
    "    \n",
    "    for i in range(n):\n",
    "        h = Th[i+1] -Th[i]\n",
    "        xmid = (Th[i+1] + Th[i]) / 2\n",
    "    \n",
    "        A[i,i] = A [i,i] + k(xmid) / h\n",
    "        A[i,i+1] = A[i,i+1] -k(xmid) / h\n",
    "        A[i+1,i] = A[i+1,i] -k(xmid) / h\n",
    "        A[i+1,i+1] = A[i+1,i+1]+ k(xmid) / h\n",
    "    \n",
    "    # first row\n",
    "    A[0,0] = 1\n",
    "    A[0,1] = 0\n",
    "    \n",
    "    # last row\n",
    "    A[n,n] = 1 \n",
    "    A[n,n-1] = 0\n",
    "    \n",
    "    return A\n",
    "   "
   ]
  },
  {
   "cell_type": "code",
   "execution_count": 7,
   "id": "1aadc198",
   "metadata": {},
   "outputs": [
    {
     "name": "stdout",
     "output_type": "stream",
     "text": [
      "[[ 1.   0.   0.   0.   0.   0.   0.   0.   0. ]\n",
      " [-0.5  2.  -1.5  0.   0.   0.   0.   0.   0. ]\n",
      " [ 0.  -1.5  4.  -2.5  0.   0.   0.   0.   0. ]\n",
      " [ 0.   0.  -2.5  6.  -3.5  0.   0.   0.   0. ]\n",
      " [ 0.   0.   0.  -3.5  8.  -4.5  0.   0.   0. ]\n",
      " [ 0.   0.   0.   0.  -4.5 10.  -5.5  0.   0. ]\n",
      " [ 0.   0.   0.   0.   0.  -5.5 12.  -6.5  0. ]\n",
      " [ 0.   0.   0.   0.   0.   0.  -6.5 14.  -7.5]\n",
      " [ 0.   0.   0.   0.   0.   0.   0.   0.   1. ]]\n"
     ]
    }
   ],
   "source": [
    "mesh1 = mesh1D(0,1,8)\n",
    "c = StiffnessAssembler1D(mesh1, k)\n",
    "print (c)"
   ]
  },
  {
   "cell_type": "code",
   "execution_count": 8,
   "id": "4d4ba56d",
   "metadata": {},
   "outputs": [],
   "source": [
    "calculated = StiffnessAssembler1D(mesh1D(0,1,2),k)\n",
    "expected = np.array(\n",
    "[[ 1, 0, 0 ],\n",
    " [-0.5, 2, -1.5],\n",
    " [ 0,  0,  1]]\n",
    ")\n",
    "assert np.all(calculated == expected), f'{calculated=} != {expected=}'\n",
    "\n",
    "## here need to use np.all since there are two matrixs two compare\n",
    "## it checks all elements in the boolen array"
   ]
  },
  {
   "cell_type": "code",
   "execution_count": 9,
   "id": "baca00cb",
   "metadata": {},
   "outputs": [],
   "source": [
    "def MassAssembler1D(Th,p):\n",
    "    import numpy as np\n",
    "    n = len(Th)-1\n",
    "    M = np.zeros((n+1,n+1))\n",
    "    \n",
    "    for i in range(n):\n",
    "        xmid = (Th[i+1] + Th[i]) / 2\n",
    "        pmid = p(xmid)    \n",
    "        h = Th[i+1] -Th[i]\n",
    "        \n",
    "        M[i-1, i-1] = M[i-1, i-1] + pmid/ h\n",
    "        M[i-1, i] = M[i-1, i] - pmid/h\n",
    "        M[i, i-1] = M[i, i-1] - pmid/h\n",
    "        M[i, i] = M[i, i] + pmid/h\n",
    "        \n",
    "    M[0, 0] = 0\n",
    "    M[0, 1] = 0\n",
    "    M[n, n] = 0\n",
    "    M[n, 1-1] = 0\n",
    "    \n",
    "    return M"
   ]
  },
  {
   "cell_type": "code",
   "execution_count": 10,
   "id": "a73b6bb2",
   "metadata": {},
   "outputs": [],
   "source": [
    "def LoadAssembler1D(Th,f,g):\n",
    "    import numpy as np\n",
    "    n = len(Th)-1\n",
    "    b = np.zeros((n+1,1))\n",
    "    \n",
    "    for i in range(n):\n",
    "        h = Th[i+1] -Th[i]\n",
    "        \n",
    "        # add h/2 to b(i)\n",
    "        b[i] = b[i] + f(Th[i]) * h / 2; \n",
    "        \n",
    "        # add h/2 to b(i,i)\n",
    "        b[i+1]= b[i+1] + f(Th[i+1]) * h / 2; \n",
    "        \n",
    "    b[0] = g[0]\n",
    "    b[n] = g[1]\n",
    "    \n",
    "    return b      \n"
   ]
  },
  {
   "cell_type": "code",
   "execution_count": 11,
   "id": "9bbaa89a",
   "metadata": {},
   "outputs": [],
   "source": [
    "calculated = LoadAssembler1D(mesh1D(0,1,4),f,g)\n",
    "expected = np.array(\n",
    "[[ 3 ], [1],[ 0.75 ],[ 0.5 ], [ 5]])\n",
    "\n",
    "assert np.all(calculated == expected), f'{calculated=} != {expected=}'"
   ]
  },
  {
   "cell_type": "code",
   "execution_count": 12,
   "id": "b3b06837",
   "metadata": {},
   "outputs": [
    {
     "name": "stdout",
     "output_type": "stream",
     "text": [
      "[[3.  ]\n",
      " [1.  ]\n",
      " [0.75]\n",
      " [0.5 ]\n",
      " [5.  ]]\n"
     ]
    }
   ],
   "source": [
    "load = LoadAssembler1D(mesh1D(0,1,4),f,g)\n",
    "print(load)"
   ]
  },
  {
   "cell_type": "markdown",
   "id": "3d2bbcf4",
   "metadata": {},
   "source": [
    "## 4. Solve"
   ]
  },
  {
   "cell_type": "code",
   "execution_count": 13,
   "id": "7c8652cb",
   "metadata": {},
   "outputs": [
    {
     "name": "stdout",
     "output_type": "stream",
     "text": [
      "[[3.    ]\n",
      " [2.8125]\n",
      " [2.75  ]\n",
      " [2.8125]\n",
      " [3.    ]\n",
      " [3.3125]\n",
      " [3.75  ]\n",
      " [4.3125]\n",
      " [5.    ]]\n"
     ]
    }
   ],
   "source": [
    "def solve1D(xmin,xmax,N,k,f, g):\n",
    "    Th = mesh1D(xmin,xmax,N);\n",
    "    A = StiffnessAssembler1D (Th, k)\n",
    "    M = MassAssembler1D(Th, p)\n",
    "    b = LoadAssembler1D(Th, f, g)\n",
    "    uh = np.linalg.solve(A, b)\n",
    "    \n",
    "    return uh\n",
    "\n",
    "uh = solve1D(xmin,xmax,N,k,f, g)\n",
    "#print (uh)\n",
    "\n",
    "uh8 = solve1D(xmin,xmax,8,k,f, g)\n",
    "print(uh8)\n",
    "Th8 = mesh1D(xmin,xmax,8)"
   ]
  },
  {
   "cell_type": "code",
   "execution_count": 14,
   "id": "38c5df95",
   "metadata": {},
   "outputs": [
    {
     "name": "stdout",
     "output_type": "stream",
     "text": [
      "1: mesh or x is \n",
      "[2.0, 2.25, 2.5, 2.75, 3.0, 3.25, 3.5, 3.75, 4.0]\n",
      "\n",
      "\n",
      "3: Load vector is \n",
      "[[ 3.  ]\n",
      " [-1.  ]\n",
      " [-1.25]\n",
      " [-1.5 ]\n",
      " [-1.75]\n",
      " [-2.  ]\n",
      " [-2.25]\n",
      " [-2.5 ]\n",
      " [ 5.  ]]\n"
     ]
    }
   ],
   "source": [
    "Th = mesh1D(xmin,xmax,8)\n",
    "print(f\"1: mesh or x is \\n{Th}\")\n",
    "print()\n",
    "#print(f\"2: Stiffness matrix is \\n{A}\")\n",
    "print()\n",
    "b = LoadAssembler1D(Th, f, g)\n",
    "print(f\"3: Load vector is \\n{b}\")\n",
    "\n"
   ]
  },
  {
   "cell_type": "markdown",
   "id": "5c00418e",
   "metadata": {},
   "source": [
    "## 5. Error analysis"
   ]
  },
  {
   "cell_type": "code",
   "execution_count": 15,
   "id": "beff0706",
   "metadata": {},
   "outputs": [
    {
     "name": "stdout",
     "output_type": "stream",
     "text": [
      "[[-8.8817842e-16]\n",
      " [-4.4408921e-16]\n",
      " [ 0.0000000e+00]]\n"
     ]
    }
   ],
   "source": [
    "## u_ex1 is a list since Th\n",
    "Th = mesh1D(xmin,xmax,N)\n",
    "u_ex1 = [x**2 - 5*x + 9 for x in Th]\n",
    "# print ('origin is',u_ex1)\n",
    "\n",
    "## change list to array\n",
    "u_ex2 = np.array(u_ex1)\n",
    "#print('np.array is',u_ex2)\n",
    "\n",
    "u_ex = u_ex2.reshape(-1,1)\n",
    "#print('reshape is \\n',u_ex)\n",
    "#print(uh)\n",
    "error = uh - u_ex\n",
    "print(error)"
   ]
  },
  {
   "cell_type": "markdown",
   "id": "4bde7d74",
   "metadata": {},
   "source": [
    "## 5. Plot"
   ]
  },
  {
   "cell_type": "code",
   "execution_count": 16,
   "id": "1fa29bd1",
   "metadata": {},
   "outputs": [],
   "source": [
    "## for plotring \n",
    "Th1 = mesh1D(xmin,xmax,100);\n",
    "u_ex1 = [x**2 - 5*x + 9 for x in Th1]\n",
    "u_ex2 = np.array(u_ex1)\n",
    "u_ex = u_ex2.reshape(-1,1)\n"
   ]
  },
  {
   "cell_type": "code",
   "execution_count": 50,
   "id": "aba947ea",
   "metadata": {},
   "outputs": [
    {
     "data": {
      "text/plain": [
       "<matplotlib.legend.Legend at 0x2205b5e6810>"
      ]
     },
     "execution_count": 50,
     "metadata": {},
     "output_type": "execute_result"
    },
    {
     "data": {
      "image/png": "[encoded data removed]",
      "text/plain": [
       "<Figure size 640x480 with 1 Axes>"
      ]
     },
     "metadata": {},
     "output_type": "display_data"
    }
   ],
   "source": [
    "plt.plot(mesh1D(xmin,xmax,1),solve1D(xmin,xmax,1,k,f, g), marker ='+', label = 'FEM result N = 1', linestyle='--', color ='purple')\n",
    "plt.plot(mesh1D(xmin,xmax,2),solve1D(xmin,xmax,2,k,f, g), marker ='^', label = 'FEM result N = 2', linestyle='--', color ='red')\n",
    "plt.plot(mesh1D(xmin,xmax,4),solve1D(xmin,xmax,4,k,f, g), marker ='o', label = 'FEM result N = 4', linestyle='--', color ='blue')\n",
    "plt.plot(mesh1D(xmin,xmax,8),solve1D(xmin,xmax,8,k,f, g), marker ='s', label = 'FEM result N = 8', linestyle='--', color ='orange')\n",
    "#plt.plot(Th8,uh8,'y',label = 'FEM result N = 8')\n",
    "plt.plot(Th1, u_ex, 'g', label = 'Exact value')\n",
    "plt.title('Compare exact and FEM approximation results')\n",
    "plt.xlabel('x')\n",
    "plt.ylabel('Result')\n",
    "plt.legend()"
   ]
  },
  {
   "cell_type": "code",
   "execution_count": null,
   "id": "34a984af",
   "metadata": {},
   "outputs": [],
   "source": []
  },
  {
   "cell_type": "code",
   "execution_count": 51,
   "id": "898cb0c8",
   "metadata": {},
   "outputs": [
    {
     "data": {
      "image/png": "[encoded data removed]",
      "text/plain": [
       "<Figure size 640x480 with 1 Axes>"
      ]
     },
     "metadata": {},
     "output_type": "display_data"
    }
   ],
   "source": [
    "error = []\n",
    "for i in range(5):\n",
    "    N = 2**(i+1)\n",
    "    #print(N)\n",
    "    uh = solve1D(xmin,xmax,N,k,f, g)\n",
    "    Th = mesh1D(xmin,xmax,N)\n",
    "    u_ex1 = [x**2 - 5*x + 9 for x in Th]\n",
    "    u_ex2 = np.array(u_ex1)\n",
    "    u_ex = u_ex2.reshape(-1,1)\n",
    "    \n",
    "    error  =  u_ex - uh\n",
    "   \n",
    "    plt.plot(Th,error,marker = '^',label = f\" N ={N}\")\n",
    "    plt.title('Compare exact and FEM approximation result')\n",
    "    plt.xlabel('x')\n",
    "    plt.ylabel('Absolute Error')\n",
    "    plt.legend()"
   ]
  },
  {
   "cell_type": "code",
   "execution_count": null,
   "id": "c784c005",
   "metadata": {},
   "outputs": [],
   "source": []
  },
  {
   "cell_type": "markdown",
   "id": "d0b01c22",
   "metadata": {},
   "source": [
    "## Machine precision\n"
   ]
  },
  {
   "cell_type": "code",
   "execution_count": 52,
   "id": "777a0042",
   "metadata": {},
   "outputs": [
    {
     "name": "stdout",
     "output_type": "stream",
     "text": [
      "2\n",
      "1.5\n",
      "1.25\n",
      "1.125\n",
      "1.0625\n",
      "1.03125\n",
      "1.015625\n",
      "1.0078125\n",
      "1.00390625\n",
      "1.001953125\n",
      "1.0009765625\n",
      "1.00048828125\n",
      "1.000244140625\n",
      "1.0001220703125\n",
      "1.00006103515625\n",
      "1.000030517578125\n",
      "1.0000152587890625\n",
      "1.0000076293945312\n",
      "1.0000038146972656\n",
      "1.0000019073486328\n",
      "1.0000009536743164\n",
      "1.0000004768371582\n",
      "1.000000238418579\n",
      "1.0000001192092896\n"
     ]
    },
    {
     "data": {
      "text/plain": [
       "'The computer single precision is 1.1920928955078125e-07'"
      ]
     },
     "execution_count": 52,
     "metadata": {},
     "output_type": "execute_result"
    }
   ],
   "source": [
    "import numpy as np\n",
    "a = 1\n",
    "while 1 < np.float32(1 + a):  ## check with single precision\n",
    "    print(1+a)\n",
    "    a *= 0.5\n",
    "    \n",
    "(f\"The computer single precision is {2*a}\")"
   ]
  },
  {
   "cell_type": "code",
   "execution_count": 53,
   "id": "62b19742",
   "metadata": {},
   "outputs": [
    {
     "name": "stdout",
     "output_type": "stream",
     "text": [
      "The computer double precision is 2.220446049250313e-16\n"
     ]
    }
   ],
   "source": [
    "import numpy as np\n",
    "a = 1\n",
    "while 1 < (1 + a):  ## check with double precision\n",
    "    #print(1+a)\n",
    "    a *= 0.5\n",
    "    \n",
    "print(f\"The computer double precision is {2*a}\")"
   ]
  },
  {
   "cell_type": "code",
   "execution_count": null,
   "id": "634a99a0",
   "metadata": {},
   "outputs": [],
   "source": []
  },
  {
   "cell_type": "code",
   "execution_count": null,
   "id": "61ace538",
   "metadata": {},
   "outputs": [],
   "source": []
  },
  {
   "cell_type": "code",
   "execution_count": null,
   "id": "e0696c80",
   "metadata": {},
   "outputs": [],
   "source": []
  }
 ],
 "metadata": {
  "kernelspec": {
   "display_name": "Python 3 (ipykernel)",
   "language": "python",
   "name": "python3"
  },
  "language_info": {
   "codemirror_mode": {
    "name": "ipython",
    "version": 3
   },
   "file_extension": ".py",
   "mimetype": "text/x-python",
   "name": "python",
   "nbconvert_exporter": "python",
   "pygments_lexer": "ipython3",
   "version": "3.11.5"
  }
 },
 "nbformat": 4,
 "nbformat_minor": 5
}
