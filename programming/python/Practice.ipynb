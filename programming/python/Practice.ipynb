{
 "cells": [
  {
   "cell_type": "code",
   "execution_count": 27,
   "id": "dd174b8a-361f-4d87-a668-1549e533dc57",
   "metadata": {},
   "outputs": [
    {
     "name": "stdout",
     "output_type": "stream",
     "text": [
      "<class 'list'>\n",
      "[1, 2, 3, 4, 5, 6]\n"
     ]
    }
   ],
   "source": [
    "x = [1,2,3,4,5,6]\n",
    "print( type(x) )\n",
    "print(x)"
   ]
  },
  {
   "cell_type": "code",
   "execution_count": 28,
   "id": "9daad380-eecb-49d6-9117-1e1f2fca7111",
   "metadata": {},
   "outputs": [],
   "source": [
    "t = (1,2,3)"
   ]
  },
  {
   "cell_type": "code",
   "execution_count": 40,
   "id": "4d8a558f-26f5-47d7-8506-b8a87b085cc4",
   "metadata": {},
   "outputs": [],
   "source": [
    "numbers = {\"one\":1, \"two\":2, \"three\":3}"
   ]
  },
  {
   "cell_type": "code",
   "execution_count": 44,
   "id": "d5622c1c-5d4e-47cb-b66d-e734dadc0300",
   "metadata": {},
   "outputs": [],
   "source": [
    "numbers[\"thirteen\"] = 13\n",
    "numbers[\"sixty\"] = 60"
   ]
  },
  {
   "cell_type": "code",
   "execution_count": 45,
   "id": "e40eb588-eae4-451a-9deb-12076f1b5120",
   "metadata": {},
   "outputs": [
    {
     "name": "stdout",
     "output_type": "stream",
     "text": [
      "{'one': 1, 'two': 2, 'three': 3, 'thirteen': 13, 'sixty': 60}\n"
     ]
    }
   ],
   "source": [
    "print(numbers)"
   ]
  },
  {
   "cell_type": "code",
   "execution_count": 57,
   "id": "d6f78a0b-ba0e-4228-8d20-87bb4df6ac62",
   "metadata": {},
   "outputs": [
    {
     "name": "stdout",
     "output_type": "stream",
     "text": [
      "{1, 2, 3, 4, 5, 7, 9}\n",
      "{3, 5, 7}\n",
      "{2, 4}\n",
      "{1, 2, 4, 9}\n"
     ]
    }
   ],
   "source": [
    "primes = {2,3,5,4,5,3,5,7}\n",
    "odds = {1,3,5,7,9}\n",
    "c = primes.union(odds)\n",
    "print(c)\n",
    "d = primes.intersection(odds)\n",
    "print(d)\n",
    "e = primes.difference(odds)\n",
    "print(e)\n",
    "f = primes.symmetric_difference(odds)\n",
    "print(f)"
   ]
  },
  {
   "cell_type": "code",
   "execution_count": 49,
   "id": "04ecf70e-e086-4121-9fed-847a88aa337c",
   "metadata": {},
   "outputs": [
    {
     "name": "stdout",
     "output_type": "stream",
     "text": [
      "[1, 2, 3, 4, 5, 6]\n",
      "{1, 2, 3, 4, 5, 6}\n"
     ]
    }
   ],
   "source": [
    "print(x)\n",
    "c = set(x)\n",
    "print(c)"
   ]
  },
  {
   "cell_type": "code",
   "execution_count": 58,
   "id": "a2418939-bce8-4792-98d1-5f02706456c7",
   "metadata": {},
   "outputs": [
    {
     "name": "stdout",
     "output_type": "stream",
     "text": [
      "1- 2- 3- "
     ]
    }
   ],
   "source": [
    "for i in [1,2,3]:\n",
    "    print(i, end=\"- \")"
   ]
  },
  {
   "cell_type": "code",
   "execution_count": 61,
   "id": "755aaff7-393f-46e1-9c2b-3b1446616879",
   "metadata": {},
   "outputs": [
    {
     "data": {
      "text/plain": [
       "[1, 5, 9]"
      ]
     },
     "execution_count": 61,
     "metadata": {},
     "output_type": "execute_result"
    }
   ],
   "source": [
    "c = list(range(1,10,4))"
   ]
  },
  {
   "cell_type": "code",
   "execution_count": 65,
   "id": "1ffe1e5e-d334-4794-a1dc-74e9a9391913",
   "metadata": {},
   "outputs": [
    {
     "name": "stdout",
     "output_type": "stream",
     "text": [
      "5 is exist\n"
     ]
    }
   ],
   "source": [
    "for i in c:\n",
    "    if i == 5:\n",
    "       print(\"5 is exist\")\n",
    "    else:\n",
    "        #print(\"5 is not exist\")\n",
    "        pass"
   ]
  },
  {
   "cell_type": "code",
   "execution_count": 67,
   "id": "b9e1cf40-2b8e-4e1b-823c-03b258fd5884",
   "metadata": {},
   "outputs": [],
   "source": [
    "def catch_all(*args, **kwargs):\n",
    "    print(\"args = \", args)\n",
    "    print(\"kwargs = \", kwargs)"
   ]
  },
  {
   "cell_type": "code",
   "execution_count": 76,
   "id": "3934213a-4bc9-4e92-b2fb-6352b0e65cc3",
   "metadata": {},
   "outputs": [
    {
     "name": "stdout",
     "output_type": "stream",
     "text": [
      "args =  (1, 2, 3, 4, 5, 'it is ok')\n",
      "kwargs =  {'c': 2, 'f': 2}\n"
     ]
    }
   ],
   "source": [
    "catch_all(1,2, 3,4,5, \"it is ok\", c = 2, f = 2)"
   ]
  },
  {
   "cell_type": "code",
   "execution_count": 78,
   "id": "4abf6fba-34e4-4c92-acc8-7bc03cf987a9",
   "metadata": {},
   "outputs": [
    {
     "data": {
      "text/plain": [
       "7"
      ]
     },
     "execution_count": 78,
     "metadata": {},
     "output_type": "execute_result"
    }
   ],
   "source": [
    "add = lambda x,y: x+y\n",
    "add(2,5)"
   ]
  },
  {
   "cell_type": "code",
   "execution_count": 3,
   "id": "4a5266fd-8760-460e-a7c9-051cdb684b74",
   "metadata": {},
   "outputs": [
    {
     "name": "stdout",
     "output_type": "stream",
     "text": [
      "nothing\n"
     ]
    }
   ],
   "source": [
    "print(\"nothing\")"
   ]
  },
  {
   "cell_type": "code",
   "execution_count": null,
   "id": "e237bd18",
   "metadata": {},
   "outputs": [],
   "source": []
  }
 ],
 "metadata": {
  "kernelspec": {
   "display_name": "fenicsx",
   "language": "python",
   "name": "python3"
  },
  "language_info": {
   "codemirror_mode": {
    "name": "ipython",
    "version": 3
   },
   "file_extension": ".py",
   "mimetype": "text/x-python",
   "name": "python",
   "nbconvert_exporter": "python",
   "pygments_lexer": "ipython3",
   "version": "3.12.4"
  }
 },
 "nbformat": 4,
 "nbformat_minor": 5
}
