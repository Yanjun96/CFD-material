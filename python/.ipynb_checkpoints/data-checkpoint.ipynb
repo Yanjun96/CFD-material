{
 "cells": [
  {
   "cell_type": "code",
   "execution_count": 1,
   "id": "e7a88918-7e39-4500-b3f3-3625a6ffa5db",
   "metadata": {},
   "outputs": [],
   "source": [
    "import numpy as np"
   ]
  },
  {
   "cell_type": "code",
   "execution_count": 2,
   "id": "8b691bde-0720-4b3a-8e5f-016fb17741c3",
   "metadata": {},
   "outputs": [
    {
     "data": {
      "text/plain": [
       "array([   6,   28,  496, 8128])"
      ]
     },
     "execution_count": 2,
     "metadata": {},
     "output_type": "execute_result"
    }
   ],
   "source": [
    "np.array([6,28,496,8128])"
   ]
  },
  {
   "cell_type": "code",
   "execution_count": 3,
   "id": "10f47a15-1d0d-4e06-93c5-8f6e0afd77c6",
   "metadata": {},
   "outputs": [
    {
     "data": {
      "text/plain": [
       "array([0, 1, 2, 3, 4, 5])"
      ]
     },
     "execution_count": 3,
     "metadata": {},
     "output_type": "execute_result"
    }
   ],
   "source": [
    "np.arange(6)"
   ]
  },
  {
   "cell_type": "code",
   "execution_count": 4,
   "id": "e1004490-b5e0-4df0-af34-a4673b5be76d",
   "metadata": {},
   "outputs": [
    {
     "data": {
      "text/plain": [
       "array([0., 0., 0., 0.])"
      ]
     },
     "execution_count": 4,
     "metadata": {},
     "output_type": "execute_result"
    }
   ],
   "source": [
    "np.zeros(4)"
   ]
  },
  {
   "cell_type": "code",
   "execution_count": 6,
   "id": "73975972-99ef-4df7-a21a-f7551fdc45b1",
   "metadata": {},
   "outputs": [
    {
     "data": {
      "text/plain": [
       "array([[1., 1., 1.],\n",
       "       [1., 1., 1.]])"
      ]
     },
     "execution_count": 6,
     "metadata": {},
     "output_type": "execute_result"
    }
   ],
   "source": [
    "np.ones((2,3))"
   ]
  },
  {
   "cell_type": "code",
   "execution_count": 7,
   "id": "c7f396f4-b10e-4743-94ce-c900ffc894a7",
   "metadata": {},
   "outputs": [
    {
     "data": {
      "text/plain": [
       "array([0., 0., 0., 0.])"
      ]
     },
     "execution_count": 7,
     "metadata": {},
     "output_type": "execute_result"
    }
   ],
   "source": [
    "np.empty(4)"
   ]
  },
  {
   "cell_type": "code",
   "execution_count": 9,
   "id": "cdc2583c-e945-40d8-a9fd-d04a3d418737",
   "metadata": {},
   "outputs": [
    {
     "data": {
      "text/plain": [
       "array([1.  , 1.25, 1.5 , 1.75, 2.  ])"
      ]
     },
     "execution_count": 9,
     "metadata": {},
     "output_type": "execute_result"
    }
   ],
   "source": [
    "np.linspace(1,2,5)"
   ]
  },
  {
   "cell_type": "code",
   "execution_count": 12,
   "id": "5889ff28-9faa-4294-9577-8ba43b63c2f4",
   "metadata": {},
   "outputs": [
    {
     "data": {
      "text/plain": [
       "array([10. ,  1. ,  0.1])"
      ]
     },
     "execution_count": 12,
     "metadata": {},
     "output_type": "execute_result"
    }
   ],
   "source": [
    "np.logspace(1,-1,3)"
   ]
  },
  {
   "cell_type": "code",
   "execution_count": 13,
   "id": "f555291c-715f-4f7e-911a-19ec640c0714",
   "metadata": {},
   "outputs": [],
   "source": [
    "c = np.logspace(1,-1,3)"
   ]
  },
  {
   "cell_type": "code",
   "execution_count": 14,
   "id": "0159c728-5aba-48ea-a45f-6c200c133477",
   "metadata": {},
   "outputs": [
    {
     "data": {
      "text/plain": [
       "3"
      ]
     },
     "execution_count": 14,
     "metadata": {},
     "output_type": "execute_result"
    }
   ],
   "source": [
    "c.size\n"
   ]
  },
  {
   "cell_type": "code",
   "execution_count": 19,
   "id": "e554a4a0-1a83-481a-803b-2204ecb463be",
   "metadata": {},
   "outputs": [
    {
     "data": {
      "text/plain": [
       "(3,)"
      ]
     },
     "execution_count": 19,
     "metadata": {},
     "output_type": "execute_result"
    }
   ],
   "source": [
    "c.shape"
   ]
  },
  {
   "cell_type": "code",
   "execution_count": null,
   "id": "99512b17-e045-48b2-beb3-2c49ab271b20",
   "metadata": {},
   "outputs": [],
   "source": []
  }
 ],
 "metadata": {
  "kernelspec": {
   "display_name": "Python 3 (ipykernel)",
   "language": "python",
   "name": "python3"
  },
  "language_info": {
   "codemirror_mode": {
    "name": "ipython",
    "version": 3
   },
   "file_extension": ".py",
   "mimetype": "text/x-python",
   "name": "python",
   "nbconvert_exporter": "python",
   "pygments_lexer": "ipython3",
   "version": "3.12.8"
  }
 },
 "nbformat": 4,
 "nbformat_minor": 5
}
