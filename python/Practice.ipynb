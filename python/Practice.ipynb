{
 "cells": [
  {
   "cell_type": "code",
   "execution_count": 18,
   "id": "d38e571f-9f83-4579-8a56-1e7045ddb695",
   "metadata": {},
   "outputs": [
    {
     "name": "stdout",
     "output_type": "stream",
     "text": [
      "1\n",
      "<class 'tuple'>\n",
      "1\n",
      "2\n"
     ]
    }
   ],
   "source": [
    "## Turple\n",
    "my_tuple = (1, 'hello', [3, 4], (5, 6))\n",
    "\n",
    "#print(my_tuple[0])  # Accessing the first element of the tuple\n",
    "#print(my_tuple[2])  # Accessing the third element of the tuple\n",
    "\n",
    "c = (1,)\n",
    "print(c[0])\n",
    "t = 1, 2\n",
    "\n",
    "print(type(t))\n",
    "\n",
    "a, b = t\n",
    "print(t[0])\n",
    "print(t[1])"
   ]
  },
  {
   "cell_type": "code",
   "execution_count": 14,
   "id": "de899f7b-bbf7-4ea6-b8d6-8c1842bf142a",
   "metadata": {},
   "outputs": [
    {
     "name": "stdout",
     "output_type": "stream",
     "text": [
      "red\n",
      "yellow\n",
      "blue\n",
      "<class 'list'>\n"
     ]
    }
   ],
   "source": [
    "## List\n",
    "colours = ['red',1,'blue','yellow']\n",
    "i = 0\n",
    "for i in colours[0::3]:\n",
    "    print(i)\n",
    "    \n",
    "print(colours[2])\n",
    "\n",
    "print(type(colours))"
   ]
  },
  {
   "cell_type": "code",
   "execution_count": 28,
   "id": "b87a4cae-bfcc-4069-afa5-98f929734ed5",
   "metadata": {},
   "outputs": [
    {
     "name": "stdout",
     "output_type": "stream",
     "text": [
      "yanjun\n",
      "28\n",
      "name yanjun\n",
      "age 28\n",
      "city Stockholm\n"
     ]
    }
   ],
   "source": [
    "## Dictionary\n",
    "\n",
    "my_dict = {\n",
    " \"name\":\"yanjun\",\n",
    " \"age\" :28,\n",
    " \"city\":\"Stockholm\"\n",
    "}\n",
    "\n",
    "print(my_dict[\"name\"])\n",
    "print(my_dict[\"age\"])\n",
    "\n",
    "for i,k in my_dict.items():\n",
    "   print(i,k)"
   ]
  },
  {
   "cell_type": "code",
   "execution_count": 1,
   "id": "9a192e0b-5750-4e51-8c0f-25e9876a209d",
   "metadata": {},
   "outputs": [
    {
     "ename": "NameError",
     "evalue": "name 'print_info' is not defined",
     "output_type": "error",
     "traceback": [
      "\u001b[0;31m---------------------------------------------------------------------------\u001b[0m",
      "\u001b[0;31mNameError\u001b[0m                                 Traceback (most recent call last)",
      "Cell \u001b[0;32mIn[1], line 1\u001b[0m\n\u001b[0;32m----> 1\u001b[0m \u001b[43mprint_info\u001b[49m()\n",
      "\u001b[0;31mNameError\u001b[0m: name 'print_info' is not defined"
     ]
    }
   ],
   "source": [
    "print_info()"
   ]
  },
  {
   "cell_type": "markdown",
   "id": "9de4558b-16ec-4b61-bf2f-4752db652028",
   "metadata": {},
   "source": [
    "def print_info():\n",
    "    my_dict = {\n",
    "    \"name\":\"yanjun\",\n",
    "    \"age\" :29,\n",
    "    \"city\":\"Stockholm\"\n",
    "    }\n",
    "    for i,k in my_dict.items():\n",
    "        print(i,k)\n",
    "    return my_dict.items()\n",
    "\n",
    "print_info()"
   ]
  },
  {
   "cell_type": "code",
   "execution_count": 1,
   "id": "0f4e29d1-631e-4b2c-8b5f-4172b7f266b7",
   "metadata": {},
   "outputs": [
    {
     "name": "stdout",
     "output_type": "stream",
     "text": [
      "name yanjun\n",
      "age 28\n",
      "city Stockholm\n",
      "yanjun is so cool!\n"
     ]
    }
   ],
   "source": [
    "import print_info\n",
    "c = print_info.print_info()\n",
    "d = print_info.yanjun()\n"
   ]
  },
  {
   "cell_type": "code",
   "execution_count": 2,
   "id": "31b91ec3-2bb3-4b3f-9d67-14c71c720117",
   "metadata": {},
   "outputs": [
    {
     "data": {
      "text/plain": [
       "'yanjun is so cool!'"
      ]
     },
     "execution_count": 2,
     "metadata": {},
     "output_type": "execute_result"
    }
   ],
   "source": [
    "def yanjun():\n",
    "    #a = print(\"yanjun is so cool!\")\n",
    "    return \"yanjun is so cool!\"\n",
    "yanjun()"
   ]
  },
  {
   "cell_type": "code",
   "execution_count": 31,
   "id": "8866b0a3-d2d0-4535-ad33-91810e7ec5a8",
   "metadata": {},
   "outputs": [
    {
     "name": "stdout",
     "output_type": "stream",
     "text": [
      "390000\n"
     ]
    }
   ],
   "source": [
    "def Annual_income(x):\n",
    "    s = x*13\n",
    "    return s\n",
    "\n",
    "\n",
    "print(Annual_income(30000))"
   ]
  },
  {
   "cell_type": "code",
   "execution_count": 36,
   "id": "9f487b25-671b-4cc2-8dbe-b1734cfad094",
   "metadata": {},
   "outputs": [
    {
     "name": "stdout",
     "output_type": "stream",
     "text": [
      "Input file: -f\n"
     ]
    }
   ],
   "source": [
    "import sys\n",
    "\n",
    "input_file = sys.argv[1]\n",
    "\n",
    "# Now you can use 'input_file' in your script to refer to the provided input file\n",
    "print(\"Input file:\", input_file)\n"
   ]
  },
  {
   "cell_type": "code",
   "execution_count": 40,
   "id": "360c0dd4-7828-46a2-b861-9660b14aca10",
   "metadata": {},
   "outputs": [
    {
     "name": "stdout",
     "output_type": "stream",
     "text": [
      "0.8660254037844386\n"
     ]
    }
   ],
   "source": [
    "import math \n",
    "print(math.sin(math.pi/3))"
   ]
  },
  {
   "cell_type": "code",
   "execution_count": 22,
   "id": "523aceec-09f8-47cf-9829-da963a2eb945",
   "metadata": {},
   "outputs": [],
   "source": [
    "def print_mult_table1(n):\n",
    "   for i in range(1,6):\n",
    "      print(i*7)\n",
    "\n",
    "## check the programme run as a module or main programme\n",
    "if __name__ != \"__main__\":\n",
    "    import sys\n",
    "    print_mult_table1 (int(sys.argv[1]),2) \n",
    "\n",
    "#print_mult_table1(5)"
   ]
  },
  {
   "cell_type": "code",
   "execution_count": 15,
   "id": "0dd929fb-e5bc-4b14-bf1b-10798c606c4e",
   "metadata": {},
   "outputs": [
    {
     "name": "stdout",
     "output_type": "stream",
     "text": [
      "-f\n"
     ]
    }
   ],
   "source": [
    "print(sys.argv[1])"
   ]
  },
  {
   "cell_type": "code",
   "execution_count": 11,
   "id": "74f7faae-7005-4b99-94c1-85a9f9eb032e",
   "metadata": {},
   "outputs": [
    {
     "name": "stdout",
     "output_type": "stream",
     "text": [
      "Usage: python script.py <number>\n"
     ]
    },
    {
     "ename": "SystemExit",
     "evalue": "1",
     "output_type": "error",
     "traceback": [
      "An exception has occurred, use %tb to see the full traceback.\n",
      "\u001b[0;31mSystemExit\u001b[0m\u001b[0;31m:\u001b[0m 1\n"
     ]
    }
   ],
   "source": [
    "def print_mult_table1(n):\n",
    "    # Print the multiplication table of 'n' up to 5\n",
    "    for i in range(1, 6):\n",
    "        print(i * n)\n",
    "\n",
    "# Check if the script is being run as the main program\n",
    "if __name__ == \"__main__\":\n",
    "    import sys\n",
    "    \n",
    "    # Check if the correct number of command-line arguments is provided\n",
    "    if len(sys.argv) != 2:\n",
    "        print(\"Usage: python script.py <number>\")\n",
    "        sys.exit(1)  # Exit the script with a non-zero exit status\n",
    "    \n",
    "    # Get the number from the command-line argument and convert it to an integer\n",
    "    number = int(sys.argv[1])\n",
    "    \n",
    "    # Call the function with the provided number\n",
    "    print_mult_table1(number)"
   ]
  },
  {
   "cell_type": "code",
   "execution_count": 15,
   "id": "e3ccdb03-536a-4768-87f7-b79a2401facf",
   "metadata": {},
   "outputs": [
    {
     "name": "stdout",
     "output_type": "stream",
     "text": [
      "This is a poem: 2\n",
      "<built-in method sort of list object at 0x7af4c46ac680>\n"
     ]
    }
   ],
   "source": [
    "print('This is a poem:', 2)\n",
    "L = [5,3,4,8,1]\n",
    "L.sort()\n",
    "print(L.sort)"
   ]
  },
  {
   "cell_type": "code",
   "execution_count": 1,
   "id": "216e4045-b236-452a-919f-d3614cb08bc5",
   "metadata": {},
   "outputs": [
    {
     "name": "stdout",
     "output_type": "stream",
     "text": [
      "The Zen of Python, by Tim Peters\n",
      "\n",
      "Beautiful is better than ugly.\n",
      "Explicit is better than implicit.\n",
      "Simple is better than complex.\n",
      "Complex is better than complicated.\n",
      "Flat is better than nested.\n",
      "Sparse is better than dense.\n",
      "Readability counts.\n",
      "Special cases aren't special enough to break the rules.\n",
      "Although practicality beats purity.\n",
      "Errors should never pass silently.\n",
      "Unless explicitly silenced.\n",
      "In the face of ambiguity, refuse the temptation to guess.\n",
      "There should be one-- and preferably only one --obvious way to do it.\n",
      "Although that way may not be obvious at first unless you're Dutch.\n",
      "Now is better than never.\n",
      "Although never is often better than *right* now.\n",
      "If the implementation is hard to explain, it's a bad idea.\n",
      "If the implementation is easy to explain, it may be a good idea.\n",
      "Namespaces are one honking great idea -- let's do more of those!\n"
     ]
    }
   ],
   "source": [
    "import this"
   ]
  },
  {
   "cell_type": "code",
   "execution_count": 18,
   "id": "28524de2-946b-4d8e-9cf0-a264d3ce6f07",
   "metadata": {},
   "outputs": [
    {
     "name": "stdout",
     "output_type": "stream",
     "text": [
      "<Response [200]>\n"
     ]
    }
   ],
   "source": [
    "import requests\n",
    "from IPython.display import Image, HTML\n",
    "url = f'https://jsdokken.com/dolfinx-tutorial/#'\n",
    "r = requests.get(url)\n",
    "print(r)"
   ]
  },
  {
   "cell_type": "code",
   "execution_count": 19,
   "id": "5e358191-28e5-4db7-a123-a8d4478be42e",
   "metadata": {},
   "outputs": [
    {
     "data": {
      "text/html": [
       "<img src=\"https://images.nationalgeographic.org/image/upload/t_edhub_resource_key_image/v1638886301/EducationHub/photos/lightning-bolts.jpg\"/>"
      ],
      "text/plain": [
       "<IPython.core.display.Image object>"
      ]
     },
     "metadata": {},
     "output_type": "display_data"
    }
   ],
   "source": [
    "display(\n",
    "Image(\n",
    "    url='https://images.nationalgeographic.org/image/upload/t_edhub_resource_key_image/v1638886301/EducationHub/photos/lightning-bolts.jpg'\n",
    "    )\n",
    ")"
   ]
  },
  {
   "cell_type": "code",
   "execution_count": 10,
   "id": "75dff322-39c8-49c9-b273-64738589e820",
   "metadata": {},
   "outputs": [
    {
     "name": "stdout",
     "output_type": "stream",
     "text": [
      "Array:\n",
      "[[1 2 3]\n",
      " [4 5 6]]\n"
     ]
    }
   ],
   "source": [
    "import numpy as np\n",
    "arr = np.array([\n",
    "    [1,2,3], \n",
    "    [4,5,6],\n",
    "])\n",
    "\n",
    "print(\"Array:\"     )\n",
    "print(arr)"
   ]
  },
  {
   "cell_type": "code",
   "execution_count": 16,
   "id": "36e223b7-84b9-4187-993e-592fb7f69454",
   "metadata": {},
   "outputs": [
    {
     "name": "stdout",
     "output_type": "stream",
     "text": [
      "Shape: (2, 3)\n",
      "Data type: int64\n",
      "Element at (0, 1): 2\n",
      "Array * 2:\n",
      "[[ 2  4  6]\n",
      " [ 8 10 12]]\n",
      "Matrix multiplication:\n",
      "[[ 5 11]\n",
      " [11 25]]\n"
     ]
    }
   ],
   "source": [
    "print(\"Shape:\", arr.shape)\n",
    "print(\"Data type:\", arr.dtype)\n",
    "print(\"Element at (0, 1):\", arr[0, 1])\n",
    "print(\"Array * 2:\")\n",
    "print(arr * 2)\n",
    "mat = np.array([[1, 2], [3, 4]])\n",
    "print(\"Matrix multiplication:\")\n",
    "print(np.dot(mat, mat))"
   ]
  },
  {
   "cell_type": "code",
   "execution_count": 17,
   "id": "9126d9e7-c598-4119-b62e-41191973a712",
   "metadata": {},
   "outputs": [
    {
     "name": "stdout",
     "output_type": "stream",
     "text": [
      "Broadcasting:\n",
      "[[11 22 33]\n",
      " [14 25 36]]\n"
     ]
    }
   ],
   "source": [
    "a = np.array([[1, 2, 3], [4, 5, 6]])\n",
    "b = np.array([10, 20, 30])\n",
    "print(\"Broadcasting:\")\n",
    "print(a + b)"
   ]
  },
  {
   "cell_type": "code",
   "execution_count": 26,
   "id": "6eeebb47-26a4-42f7-a980-00fbcd4aaefc",
   "metadata": {},
   "outputs": [],
   "source": [
    "!xdg-open https://yanjun96.github.io/Blog/"
   ]
  },
  {
   "cell_type": "code",
   "execution_count": null,
   "id": "1d594cda-5296-4233-91a8-2209a8600502",
   "metadata": {},
   "outputs": [],
   "source": []
  }
 ],
 "metadata": {
  "kernelspec": {
   "display_name": "Python 3 (ipykernel)",
   "language": "python",
   "name": "python3"
  },
  "language_info": {
   "codemirror_mode": {
    "name": "ipython",
    "version": 3
   },
   "file_extension": ".py",
   "mimetype": "text/x-python",
   "name": "python",
   "nbconvert_exporter": "python",
   "pygments_lexer": "ipython3",
   "version": "3.10.12"
  }
 },
 "nbformat": 4,
 "nbformat_minor": 5
}
