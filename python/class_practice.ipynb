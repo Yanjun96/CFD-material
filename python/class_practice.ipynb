{
 "cells": [
  {
   "cell_type": "code",
   "execution_count": 14,
   "id": "a5840507-5711-4e41-ad2e-551d9d6f23d9",
   "metadata": {},
   "outputs": [],
   "source": [
    "class Particle(object):\n",
    "   \"\"\"A particle is a constituent unit of the universe.\"\"\"\n",
    "   roar = \"I am a particle!\"\n",
    "\n",
    "\n",
    "   def __init__(self, charge, mass, position):\n",
    "       self.c = charge\n",
    "       self.m = mass\n",
    "       self.r = position\n",
    "\n",
    "   def hear_me(self):\n",
    "       myroar = self.roar + (\n",
    "           \" My charge is:  \" + str(self.c) +\n",
    "           \" My mass is:    \" + str(self.m) \n",
    "       )\n",
    "       print(myroar)"
   ]
  },
  {
   "cell_type": "code",
   "execution_count": 16,
   "id": "2dfc6087-cc03-4121-946a-1eeb3f36a543",
   "metadata": {},
   "outputs": [
    {
     "name": "stdout",
     "output_type": "stream",
     "text": [
      "I am a particle! My charge is:  1 My mass is:    1.67262192595e-27\n"
     ]
    }
   ],
   "source": [
    "from scipy import constants\n",
    "\n",
    "m_p = constants.m_p\n",
    "r_p = {'x': 1, 'y': 1, 'z': 53}\n",
    "a_p = Particle(1,m_p,r_p)\n",
    "a_p.hear_me()"
   ]
  }
 ],
 "metadata": {
  "kernelspec": {
   "display_name": "Python 3 (ipykernel)",
   "language": "python",
   "name": "python3"
  },
  "language_info": {
   "codemirror_mode": {
    "name": "ipython",
    "version": 3
   },
   "file_extension": ".py",
   "mimetype": "text/x-python",
   "name": "python",
   "nbconvert_exporter": "python",
   "pygments_lexer": "ipython3",
   "version": "3.12.8"
  }
 },
 "nbformat": 4,
 "nbformat_minor": 5
}
