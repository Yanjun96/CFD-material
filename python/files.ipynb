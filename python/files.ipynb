{
 "cells": [
  {
   "cell_type": "code",
   "execution_count": 1,
   "id": "660d2bf8-8fc1-4c9d-bfc4-723ee9c43b3d",
   "metadata": {},
   "outputs": [],
   "source": [
    "f = open('matrix.txt')"
   ]
  },
  {
   "cell_type": "code",
   "execution_count": 2,
   "id": "fff4d121-e151-48a8-a617-f706cebe95b4",
   "metadata": {},
   "outputs": [
    {
     "name": "stdout",
     "output_type": "stream",
     "text": [
      "[1, 4, 15, 9]\n",
      "[0, 11, 7, 3]\n",
      "[2, 8, 12, 13]\n",
      "[14, 5, 10, 6]\n"
     ]
    }
   ],
   "source": [
    "matrix = []\n",
    "for line in f.readlines():\n",
    "    row = [ int(x) for x in line.split(',') ]\n",
    "    print(row)\n",
    "    matrix.append(row)\n",
    "f.close()"
   ]
  },
  {
   "cell_type": "code",
   "execution_count": 3,
   "id": "b4c68389-24d9-4c4c-b619-8b84ff38e1f7",
   "metadata": {},
   "outputs": [
    {
     "name": "stdout",
     "output_type": "stream",
     "text": [
      "[[1, 4, 15, 9], [0, 11, 7, 3], [2, 8, 12, 13], [14, 5, 10, 6]]\n"
     ]
    }
   ],
   "source": [
    "print(matrix)"
   ]
  },
  {
   "cell_type": "code",
   "execution_count": null,
   "id": "71932ea6-764d-452f-9bdd-611f2015f49e",
   "metadata": {},
   "outputs": [],
   "source": []
  }
 ],
 "metadata": {
  "kernelspec": {
   "display_name": "Python 3 (ipykernel)",
   "language": "python",
   "name": "python3"
  },
  "language_info": {
   "codemirror_mode": {
    "name": "ipython",
    "version": 3
   },
   "file_extension": ".py",
   "mimetype": "text/x-python",
   "name": "python",
   "nbconvert_exporter": "python",
   "pygments_lexer": "ipython3",
   "version": "3.12.8"
  }
 },
 "nbformat": 4,
 "nbformat_minor": 5
}
